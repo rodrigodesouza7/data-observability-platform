{
  "nbformat": 4,
  "nbformat_minor": 0,
  "metadata": {
    "colab": {
      "provenance": [],
      "authorship_tag": "ABX9TyPvRa6mfC1ybxfyiblHiGEk",
      "include_colab_link": true
    },
    "kernelspec": {
      "name": "python3",
      "display_name": "Python 3"
    },
    "language_info": {
      "name": "python"
    }
  },
  "cells": [
    {
      "cell_type": "markdown",
      "metadata": {
        "id": "view-in-github",
        "colab_type": "text"
      },
      "source": [
        "<a href=\"https://colab.research.google.com/github/rodrigodesouza7/data-observability-platform/blob/main/alertas_autom%C3%A1ticos.ipynb\" target=\"_parent\"><img src=\"https://colab.research.google.com/assets/colab-badge.svg\" alt=\"Open In Colab\"/></a>"
      ]
    },
    {
      "cell_type": "markdown",
      "source": [
        "# ============================================================\n",
        "# 🚨 ALERTA AUTOMÁTICO POR ANOMALIAS\n",
        "# Envia e-mail se número de outliers ultrapassar limite definido\n",
        "# ============================================================\n"
      ],
      "metadata": {
        "id": "pOeig-uFZhxX"
      }
    },
    {
      "cell_type": "markdown",
      "source": [
        "\n",
        "# ============================================================\n",
        "# 📚 1. BIBLIOTECAS\n",
        "# ============================================================\n"
      ],
      "metadata": {
        "id": "XCvukDBeZk7Z"
      }
    },
    {
      "cell_type": "code",
      "execution_count": null,
      "metadata": {
        "id": "qwqJcCnOY8_c"
      },
      "outputs": [],
      "source": [
        "import pandas as pd\n",
        "import smtplib\n",
        "from email.mime.text import MIMEText\n",
        "from email.mime.multipart import MIMEMultipart\n"
      ]
    },
    {
      "cell_type": "markdown",
      "source": [
        "# ============================================================\n",
        "# 📥 2. CARREGAMENTO DO ARQUIVO DE ANOMALIAS\n",
        "# ============================================================\n"
      ],
      "metadata": {
        "id": "rzYz0jWPZqsJ"
      }
    },
    {
      "cell_type": "code",
      "source": [
        "# ============================================================\n",
        "# 📥 2. CARREGAMENTO DO ARQUIVO DE ANOMALIAS\n",
        "# ============================================================\n",
        "\n",
        "# Caminho do arquivo CSV gerado anteriormente\n",
        "caminho_csv = \"anomalias_detectadas.csv\"\n",
        "\n",
        "# Leitura dos dados\n",
        "df_anomalias = pd.read_csv(caminho_csv)\n",
        "\n",
        "# Contar número total de anomalias\n",
        "total_anomalias = len(df_anomalias)\n",
        "print(f\"📊 Total de anomalias detectadas: {total_anomalias}\")\n"
      ],
      "metadata": {
        "colab": {
          "base_uri": "https://localhost:8080/"
        },
        "id": "5WUGKjcAZuqV",
        "outputId": "6a1fb7e0-bde5-4daa-e565-13524d50efec"
      },
      "execution_count": null,
      "outputs": [
        {
          "output_type": "stream",
          "name": "stdout",
          "text": [
            "📊 Total de anomalias detectadas: 35\n"
          ]
        }
      ]
    },
    {
      "cell_type": "markdown",
      "source": [
        "# ============================================================\n",
        "# 🚧 3. DEFINIÇÃO DE LIMITE E CONDIÇÃO DE ALERTA\n",
        "# ============================================================\n"
      ],
      "metadata": {
        "id": "VFVh6qr-Zzhx"
      }
    },
    {
      "cell_type": "code",
      "source": [
        "\n",
        "# ============================================================\n",
        "# 🚧 3. DEFINIÇÃO DE LIMITE E CONDIÇÃO DE ALERTA\n",
        "# ============================================================\n",
        "\n",
        "# Limite crítico para disparo de alerta\n",
        "limite_alerta = 10\n",
        "\n",
        "# Verificar se ultrapassou o limite\n",
        "disparar_alerta = total_anomalias > limite_alerta"
      ],
      "metadata": {
        "id": "AOxBlaD5Z28z"
      },
      "execution_count": null,
      "outputs": []
    },
    {
      "cell_type": "markdown",
      "source": [
        "\n",
        "# ============================================================\n",
        "# ✉️ 4. CONFIGURAÇÃO DO E-MAIL (SMTP Gmail)\n",
        "# ============================================================\n"
      ],
      "metadata": {
        "id": "rkdgcgyUaDll"
      }
    },
    {
      "cell_type": "code",
      "source": [
        "# ============================================================\n",
        "# ✉️ 4. CONFIGURAÇÃO DO E-MAIL (SMTP Gmail)\n",
        "# ============================================================\n",
        "\n",
        "def enviar_email_alerta(destinatario: str):\n",
        "    remetente = \"rodrigodesouzasilva7@gmail.com\"\n",
        "    senha_app = \"wlqq udpb wjeg imne\"  # Use senha de app do Gmail\n",
        "    assunto = \"🚨 Alerta de Anomalias Detectadas\"\n",
        "\n",
        "    # Corpo do e-mail (personalizável)\n",
        "    corpo = f\"\"\"\n",
        "    Olá,\n",
        "\n",
        "    Foram detectadas {total_anomalias} anomalias no monitoramento de dados.\n",
        "    Isso ultrapassa o limite crítico definido de {limite_alerta} anomalias.\n",
        "\n",
        "    Verifique o arquivo 'anomalias_detectadas.csv' para análise detalhada.\n",
        "\n",
        "    Att,\n",
        "    Data Observability Platform\n",
        "    \"\"\"\n",
        "\n",
        "    # Montar e-mail\n",
        "    mensagem = MIMEMultipart()\n",
        "    mensagem[\"From\"] = remetente\n",
        "    mensagem[\"To\"] = destinatario\n",
        "    mensagem[\"Subject\"] = assunto\n",
        "    mensagem.attach(MIMEText(corpo, \"plain\"))\n",
        "\n",
        "    try:\n",
        "        with smtplib.SMTP_SSL(\"smtp.gmail.com\", 465) as servidor:\n",
        "            servidor.login(remetente, senha_app)\n",
        "            servidor.sendmail(remetente, destinatario, mensagem.as_string())\n",
        "        print(\"✅ E-mail de alerta enviado com sucesso!\")\n",
        "    except Exception as e:\n",
        "        print(\"❌ Falha ao enviar e-mail:\", e)\n"
      ],
      "metadata": {
        "id": "HfwoXxfnaMQa"
      },
      "execution_count": null,
      "outputs": []
    },
    {
      "cell_type": "markdown",
      "source": [
        "# ============================================================\n",
        "# 🚀 5. EXECUÇÃO CONDICIONAL DO ALERTA\n",
        "# ============================================================\n"
      ],
      "metadata": {
        "id": "u3xpKGQmbQc4"
      }
    },
    {
      "cell_type": "code",
      "source": [
        "# ============================================================\n",
        "# 🚀 5. EXECUÇÃO CONDICIONAL DO ALERTA\n",
        "# ============================================================\n",
        "\n",
        "if disparar_alerta:\n",
        "    destinatario = \"destinatario@exemplo.com\"\n",
        "    enviar_email_alerta(destinatario)\n",
        "else:\n",
        "    print(\"✅ Sem alerta. Número de anomalias dentro do limite definido.\")"
      ],
      "metadata": {
        "colab": {
          "base_uri": "https://localhost:8080/"
        },
        "id": "Ptx5t_AVbTcw",
        "outputId": "be13ba70-2cfc-4a02-decc-1ba62319fdf0"
      },
      "execution_count": null,
      "outputs": [
        {
          "output_type": "stream",
          "name": "stdout",
          "text": [
            "✅ E-mail de alerta enviado com sucesso!\n"
          ]
        }
      ]
    }
  ]
}